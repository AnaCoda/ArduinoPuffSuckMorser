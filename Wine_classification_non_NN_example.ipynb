{
  "nbformat": 4,
  "nbformat_minor": 0,
  "metadata": {
    "accelerator": "GPU",
    "colab": {
      "name": "Wine_classification_non_NN_example.ipynb",
      "provenance": [],
      "collapsed_sections": [],
      "toc_visible": true
    },
    "kernelspec": {
      "display_name": "Python 3",
      "language": "python",
      "name": "python3"
    },
    "language_info": {
      "codemirror_mode": {
        "name": "ipython",
        "version": 3
      },
      "file_extension": ".py",
      "mimetype": "text/x-python",
      "name": "python",
      "nbconvert_exporter": "python",
      "pygments_lexer": "ipython3",
      "version": "3.6.9"
    }
  },
  "cells": [
    {
      "cell_type": "markdown",
      "metadata": {
        "colab_type": "text",
        "id": "MemFGW7ksHC4"
      },
      "source": [
        "# Wine Classification"
      ]
    },
    {
      "cell_type": "code",
      "metadata": {
        "colab_type": "code",
        "id": "PvVbtuzBsHDO",
        "colab": {
          "base_uri": "https://localhost:8080/",
          "height": 35
        },
        "outputId": "dc755571-dbed-46fe-9d88-d43c5d42d256"
      },
      "source": [
        "import numpy as np\n",
        "import pandas as pd\n",
        "import pickle\n",
        "import tensorflow as tf\n",
        "from wordcloud import WordCloud\n",
        "import matplotlib.pyplot as plt\n",
        "from tensorflow.keras.preprocessing import text, sequence\n",
        "from tensorflow.keras.models import Sequential\n",
        "from tensorflow.keras.layers import Dense, Dropout, Activation\n",
        "from tensorflow.keras.layers import Embedding\n",
        "from tensorflow.keras.layers import Conv1D, GlobalMaxPooling1D, MaxPooling1D\n",
        "from sklearn.model_selection import train_test_split\n",
        "from sklearn.metrics import accuracy_score, f1_score, confusion_matrix\n",
        "import seaborn as sns\n",
        "plt.style.use('fivethirtyeight')\n",
        "print(tf.__version__)"
      ],
      "execution_count": 54,
      "outputs": [
        {
          "output_type": "stream",
          "text": [
            "2.2.0\n"
          ],
          "name": "stdout"
        }
      ]
    },
    {
      "cell_type": "code",
      "metadata": {
        "id": "XmWRNBzKeR4y",
        "colab_type": "code",
        "colab": {}
      },
      "source": [
        "# Mount your Google Drive\n",
        "from google.colab import drive\n",
        "drive.mount('/content/gdrive/', force_remount=True)"
      ],
      "execution_count": null,
      "outputs": []
    },
    {
      "cell_type": "code",
      "metadata": {
        "id": "mxVkoOjefKnU",
        "colab_type": "code",
        "colab": {}
      },
      "source": [
        "# Change to top directory of your Drive\n",
        "import os\n",
        "os.chdir('/content/gdrive/Shared drives/AI4ALL SFU NLP GROUP 3/WINE')"
      ],
      "execution_count": 56,
      "outputs": []
    },
    {
      "cell_type": "code",
      "metadata": {
        "colab_type": "code",
        "id": "UkOBp_TDsHDj",
        "colab": {}
      },
      "source": [
        "# Load data\n",
        "df = pd.read_csv('winemag-data-130k-v2.csv')"
      ],
      "execution_count": 57,
      "outputs": []
    },
    {
      "cell_type": "code",
      "metadata": {
        "colab_type": "code",
        "id": "KLqhFuE2sHDp",
        "colab": {
          "base_uri": "https://localhost:8080/",
          "height": 985
        },
        "outputId": "69bb7f18-51e3-4f0f-e5c3-13556b898f66"
      },
      "source": [
        "df.head(10)"
      ],
      "execution_count": 58,
      "outputs": [
        {
          "output_type": "execute_result",
          "data": {
            "text/html": [
              "<div>\n",
              "<style scoped>\n",
              "    .dataframe tbody tr th:only-of-type {\n",
              "        vertical-align: middle;\n",
              "    }\n",
              "\n",
              "    .dataframe tbody tr th {\n",
              "        vertical-align: top;\n",
              "    }\n",
              "\n",
              "    .dataframe thead th {\n",
              "        text-align: right;\n",
              "    }\n",
              "</style>\n",
              "<table border=\"1\" class=\"dataframe\">\n",
              "  <thead>\n",
              "    <tr style=\"text-align: right;\">\n",
              "      <th></th>\n",
              "      <th>Unnamed: 0</th>\n",
              "      <th>country</th>\n",
              "      <th>description</th>\n",
              "      <th>designation</th>\n",
              "      <th>points</th>\n",
              "      <th>price</th>\n",
              "      <th>province</th>\n",
              "      <th>region_1</th>\n",
              "      <th>region_2</th>\n",
              "      <th>taster_name</th>\n",
              "      <th>taster_twitter_handle</th>\n",
              "      <th>title</th>\n",
              "      <th>variety</th>\n",
              "      <th>winery</th>\n",
              "    </tr>\n",
              "  </thead>\n",
              "  <tbody>\n",
              "    <tr>\n",
              "      <th>0</th>\n",
              "      <td>0</td>\n",
              "      <td>Italy</td>\n",
              "      <td>Aromas include tropical fruit, broom, brimston...</td>\n",
              "      <td>Vulkà Bianco</td>\n",
              "      <td>87</td>\n",
              "      <td>NaN</td>\n",
              "      <td>Sicily &amp; Sardinia</td>\n",
              "      <td>Etna</td>\n",
              "      <td>NaN</td>\n",
              "      <td>Kerin O’Keefe</td>\n",
              "      <td>@kerinokeefe</td>\n",
              "      <td>Nicosia 2013 Vulkà Bianco  (Etna)</td>\n",
              "      <td>White Blend</td>\n",
              "      <td>Nicosia</td>\n",
              "    </tr>\n",
              "    <tr>\n",
              "      <th>1</th>\n",
              "      <td>1</td>\n",
              "      <td>Portugal</td>\n",
              "      <td>This is ripe and fruity, a wine that is smooth...</td>\n",
              "      <td>Avidagos</td>\n",
              "      <td>87</td>\n",
              "      <td>15.0</td>\n",
              "      <td>Douro</td>\n",
              "      <td>NaN</td>\n",
              "      <td>NaN</td>\n",
              "      <td>Roger Voss</td>\n",
              "      <td>@vossroger</td>\n",
              "      <td>Quinta dos Avidagos 2011 Avidagos Red (Douro)</td>\n",
              "      <td>Portuguese Red</td>\n",
              "      <td>Quinta dos Avidagos</td>\n",
              "    </tr>\n",
              "    <tr>\n",
              "      <th>2</th>\n",
              "      <td>2</td>\n",
              "      <td>US</td>\n",
              "      <td>Tart and snappy, the flavors of lime flesh and...</td>\n",
              "      <td>NaN</td>\n",
              "      <td>87</td>\n",
              "      <td>14.0</td>\n",
              "      <td>Oregon</td>\n",
              "      <td>Willamette Valley</td>\n",
              "      <td>Willamette Valley</td>\n",
              "      <td>Paul Gregutt</td>\n",
              "      <td>@paulgwine</td>\n",
              "      <td>Rainstorm 2013 Pinot Gris (Willamette Valley)</td>\n",
              "      <td>Pinot Gris</td>\n",
              "      <td>Rainstorm</td>\n",
              "    </tr>\n",
              "    <tr>\n",
              "      <th>3</th>\n",
              "      <td>3</td>\n",
              "      <td>US</td>\n",
              "      <td>Pineapple rind, lemon pith and orange blossom ...</td>\n",
              "      <td>Reserve Late Harvest</td>\n",
              "      <td>87</td>\n",
              "      <td>13.0</td>\n",
              "      <td>Michigan</td>\n",
              "      <td>Lake Michigan Shore</td>\n",
              "      <td>NaN</td>\n",
              "      <td>Alexander Peartree</td>\n",
              "      <td>NaN</td>\n",
              "      <td>St. Julian 2013 Reserve Late Harvest Riesling ...</td>\n",
              "      <td>Riesling</td>\n",
              "      <td>St. Julian</td>\n",
              "    </tr>\n",
              "    <tr>\n",
              "      <th>4</th>\n",
              "      <td>4</td>\n",
              "      <td>US</td>\n",
              "      <td>Much like the regular bottling from 2012, this...</td>\n",
              "      <td>Vintner's Reserve Wild Child Block</td>\n",
              "      <td>87</td>\n",
              "      <td>65.0</td>\n",
              "      <td>Oregon</td>\n",
              "      <td>Willamette Valley</td>\n",
              "      <td>Willamette Valley</td>\n",
              "      <td>Paul Gregutt</td>\n",
              "      <td>@paulgwine</td>\n",
              "      <td>Sweet Cheeks 2012 Vintner's Reserve Wild Child...</td>\n",
              "      <td>Pinot Noir</td>\n",
              "      <td>Sweet Cheeks</td>\n",
              "    </tr>\n",
              "    <tr>\n",
              "      <th>5</th>\n",
              "      <td>5</td>\n",
              "      <td>Spain</td>\n",
              "      <td>Blackberry and raspberry aromas show a typical...</td>\n",
              "      <td>Ars In Vitro</td>\n",
              "      <td>87</td>\n",
              "      <td>15.0</td>\n",
              "      <td>Northern Spain</td>\n",
              "      <td>Navarra</td>\n",
              "      <td>NaN</td>\n",
              "      <td>Michael Schachner</td>\n",
              "      <td>@wineschach</td>\n",
              "      <td>Tandem 2011 Ars In Vitro Tempranillo-Merlot (N...</td>\n",
              "      <td>Tempranillo-Merlot</td>\n",
              "      <td>Tandem</td>\n",
              "    </tr>\n",
              "    <tr>\n",
              "      <th>6</th>\n",
              "      <td>6</td>\n",
              "      <td>Italy</td>\n",
              "      <td>Here's a bright, informal red that opens with ...</td>\n",
              "      <td>Belsito</td>\n",
              "      <td>87</td>\n",
              "      <td>16.0</td>\n",
              "      <td>Sicily &amp; Sardinia</td>\n",
              "      <td>Vittoria</td>\n",
              "      <td>NaN</td>\n",
              "      <td>Kerin O’Keefe</td>\n",
              "      <td>@kerinokeefe</td>\n",
              "      <td>Terre di Giurfo 2013 Belsito Frappato (Vittoria)</td>\n",
              "      <td>Frappato</td>\n",
              "      <td>Terre di Giurfo</td>\n",
              "    </tr>\n",
              "    <tr>\n",
              "      <th>7</th>\n",
              "      <td>7</td>\n",
              "      <td>France</td>\n",
              "      <td>This dry and restrained wine offers spice in p...</td>\n",
              "      <td>NaN</td>\n",
              "      <td>87</td>\n",
              "      <td>24.0</td>\n",
              "      <td>Alsace</td>\n",
              "      <td>Alsace</td>\n",
              "      <td>NaN</td>\n",
              "      <td>Roger Voss</td>\n",
              "      <td>@vossroger</td>\n",
              "      <td>Trimbach 2012 Gewurztraminer (Alsace)</td>\n",
              "      <td>Gewürztraminer</td>\n",
              "      <td>Trimbach</td>\n",
              "    </tr>\n",
              "    <tr>\n",
              "      <th>8</th>\n",
              "      <td>8</td>\n",
              "      <td>Germany</td>\n",
              "      <td>Savory dried thyme notes accent sunnier flavor...</td>\n",
              "      <td>Shine</td>\n",
              "      <td>87</td>\n",
              "      <td>12.0</td>\n",
              "      <td>Rheinhessen</td>\n",
              "      <td>NaN</td>\n",
              "      <td>NaN</td>\n",
              "      <td>Anna Lee C. Iijima</td>\n",
              "      <td>NaN</td>\n",
              "      <td>Heinz Eifel 2013 Shine Gewürztraminer (Rheinhe...</td>\n",
              "      <td>Gewürztraminer</td>\n",
              "      <td>Heinz Eifel</td>\n",
              "    </tr>\n",
              "    <tr>\n",
              "      <th>9</th>\n",
              "      <td>9</td>\n",
              "      <td>France</td>\n",
              "      <td>This has great depth of flavor with its fresh ...</td>\n",
              "      <td>Les Natures</td>\n",
              "      <td>87</td>\n",
              "      <td>27.0</td>\n",
              "      <td>Alsace</td>\n",
              "      <td>Alsace</td>\n",
              "      <td>NaN</td>\n",
              "      <td>Roger Voss</td>\n",
              "      <td>@vossroger</td>\n",
              "      <td>Jean-Baptiste Adam 2012 Les Natures Pinot Gris...</td>\n",
              "      <td>Pinot Gris</td>\n",
              "      <td>Jean-Baptiste Adam</td>\n",
              "    </tr>\n",
              "  </tbody>\n",
              "</table>\n",
              "</div>"
            ],
            "text/plain": [
              "   Unnamed: 0   country  ...             variety               winery\n",
              "0           0     Italy  ...         White Blend              Nicosia\n",
              "1           1  Portugal  ...      Portuguese Red  Quinta dos Avidagos\n",
              "2           2        US  ...          Pinot Gris            Rainstorm\n",
              "3           3        US  ...            Riesling           St. Julian\n",
              "4           4        US  ...          Pinot Noir         Sweet Cheeks\n",
              "5           5     Spain  ...  Tempranillo-Merlot               Tandem\n",
              "6           6     Italy  ...            Frappato      Terre di Giurfo\n",
              "7           7    France  ...      Gewürztraminer             Trimbach\n",
              "8           8   Germany  ...      Gewürztraminer          Heinz Eifel\n",
              "9           9    France  ...          Pinot Gris   Jean-Baptiste Adam\n",
              "\n",
              "[10 rows x 14 columns]"
            ]
          },
          "metadata": {
            "tags": []
          },
          "execution_count": 58
        }
      ]
    },
    {
      "cell_type": "code",
      "metadata": {
        "id": "0wFkPe49b0mv",
        "colab_type": "code",
        "colab": {}
      },
      "source": [
        "# Get only the columns we want\n",
        "wine_df = df[['description', 'variety']].copy()"
      ],
      "execution_count": 59,
      "outputs": []
    },
    {
      "cell_type": "code",
      "metadata": {
        "id": "zsgAm-bEb0mz",
        "colab_type": "code",
        "colab": {
          "base_uri": "https://localhost:8080/",
          "height": 399
        },
        "outputId": "2a1ab1a0-28b0-4825-ed53-a28260827763"
      },
      "source": [
        "wine_df"
      ],
      "execution_count": 60,
      "outputs": [
        {
          "output_type": "execute_result",
          "data": {
            "text/html": [
              "<div>\n",
              "<style scoped>\n",
              "    .dataframe tbody tr th:only-of-type {\n",
              "        vertical-align: middle;\n",
              "    }\n",
              "\n",
              "    .dataframe tbody tr th {\n",
              "        vertical-align: top;\n",
              "    }\n",
              "\n",
              "    .dataframe thead th {\n",
              "        text-align: right;\n",
              "    }\n",
              "</style>\n",
              "<table border=\"1\" class=\"dataframe\">\n",
              "  <thead>\n",
              "    <tr style=\"text-align: right;\">\n",
              "      <th></th>\n",
              "      <th>description</th>\n",
              "      <th>variety</th>\n",
              "    </tr>\n",
              "  </thead>\n",
              "  <tbody>\n",
              "    <tr>\n",
              "      <th>0</th>\n",
              "      <td>Aromas include tropical fruit, broom, brimston...</td>\n",
              "      <td>White Blend</td>\n",
              "    </tr>\n",
              "    <tr>\n",
              "      <th>1</th>\n",
              "      <td>This is ripe and fruity, a wine that is smooth...</td>\n",
              "      <td>Portuguese Red</td>\n",
              "    </tr>\n",
              "    <tr>\n",
              "      <th>2</th>\n",
              "      <td>Tart and snappy, the flavors of lime flesh and...</td>\n",
              "      <td>Pinot Gris</td>\n",
              "    </tr>\n",
              "    <tr>\n",
              "      <th>3</th>\n",
              "      <td>Pineapple rind, lemon pith and orange blossom ...</td>\n",
              "      <td>Riesling</td>\n",
              "    </tr>\n",
              "    <tr>\n",
              "      <th>4</th>\n",
              "      <td>Much like the regular bottling from 2012, this...</td>\n",
              "      <td>Pinot Noir</td>\n",
              "    </tr>\n",
              "    <tr>\n",
              "      <th>...</th>\n",
              "      <td>...</td>\n",
              "      <td>...</td>\n",
              "    </tr>\n",
              "    <tr>\n",
              "      <th>129966</th>\n",
              "      <td>Notes of honeysuckle and cantaloupe sweeten th...</td>\n",
              "      <td>Riesling</td>\n",
              "    </tr>\n",
              "    <tr>\n",
              "      <th>129967</th>\n",
              "      <td>Citation is given as much as a decade of bottl...</td>\n",
              "      <td>Pinot Noir</td>\n",
              "    </tr>\n",
              "    <tr>\n",
              "      <th>129968</th>\n",
              "      <td>Well-drained gravel soil gives this wine its c...</td>\n",
              "      <td>Gewürztraminer</td>\n",
              "    </tr>\n",
              "    <tr>\n",
              "      <th>129969</th>\n",
              "      <td>A dry style of Pinot Gris, this is crisp with ...</td>\n",
              "      <td>Pinot Gris</td>\n",
              "    </tr>\n",
              "    <tr>\n",
              "      <th>129970</th>\n",
              "      <td>Big, rich and off-dry, this is powered by inte...</td>\n",
              "      <td>Gewürztraminer</td>\n",
              "    </tr>\n",
              "  </tbody>\n",
              "</table>\n",
              "<p>129971 rows × 2 columns</p>\n",
              "</div>"
            ],
            "text/plain": [
              "                                              description         variety\n",
              "0       Aromas include tropical fruit, broom, brimston...     White Blend\n",
              "1       This is ripe and fruity, a wine that is smooth...  Portuguese Red\n",
              "2       Tart and snappy, the flavors of lime flesh and...      Pinot Gris\n",
              "3       Pineapple rind, lemon pith and orange blossom ...        Riesling\n",
              "4       Much like the regular bottling from 2012, this...      Pinot Noir\n",
              "...                                                   ...             ...\n",
              "129966  Notes of honeysuckle and cantaloupe sweeten th...        Riesling\n",
              "129967  Citation is given as much as a decade of bottl...      Pinot Noir\n",
              "129968  Well-drained gravel soil gives this wine its c...  Gewürztraminer\n",
              "129969  A dry style of Pinot Gris, this is crisp with ...      Pinot Gris\n",
              "129970  Big, rich and off-dry, this is powered by inte...  Gewürztraminer\n",
              "\n",
              "[129971 rows x 2 columns]"
            ]
          },
          "metadata": {
            "tags": []
          },
          "execution_count": 60
        }
      ]
    },
    {
      "cell_type": "code",
      "metadata": {
        "id": "g9UInZWLb0m6",
        "colab_type": "code",
        "colab": {
          "base_uri": "https://localhost:8080/",
          "height": 124
        },
        "outputId": "cfdffa62-9ac0-4e03-cdc3-cd4643910d5c"
      },
      "source": [
        "wine_df['variety'].value_counts()[:5]"
      ],
      "execution_count": 61,
      "outputs": [
        {
          "output_type": "execute_result",
          "data": {
            "text/plain": [
              "Pinot Noir                  13272\n",
              "Chardonnay                  11753\n",
              "Cabernet Sauvignon           9472\n",
              "Red Blend                    8946\n",
              "Bordeaux-style Red Blend     6915\n",
              "Name: variety, dtype: int64"
            ]
          },
          "metadata": {
            "tags": []
          },
          "execution_count": 61
        }
      ]
    },
    {
      "cell_type": "code",
      "metadata": {
        "id": "jbs6nCKlb0nB",
        "colab_type": "code",
        "colab": {}
      },
      "source": [
        "topVarieties = wine_df['variety'].value_counts()[:5].index.tolist()"
      ],
      "execution_count": 62,
      "outputs": []
    },
    {
      "cell_type": "code",
      "metadata": {
        "id": "gEERywKRb0nJ",
        "colab_type": "code",
        "colab": {}
      },
      "source": [
        "wine_df_short = wine_df[wine_df.variety.isin(topVarieties)].copy()"
      ],
      "execution_count": 63,
      "outputs": []
    },
    {
      "cell_type": "code",
      "metadata": {
        "id": "1acqw3crb0nO",
        "colab_type": "code",
        "colab": {
          "base_uri": "https://localhost:8080/",
          "height": 399
        },
        "outputId": "a4934550-4c81-4ec5-ab8c-03f8e593b8dd"
      },
      "source": [
        "wine_df_short"
      ],
      "execution_count": 64,
      "outputs": [
        {
          "output_type": "execute_result",
          "data": {
            "text/html": [
              "<div>\n",
              "<style scoped>\n",
              "    .dataframe tbody tr th:only-of-type {\n",
              "        vertical-align: middle;\n",
              "    }\n",
              "\n",
              "    .dataframe tbody tr th {\n",
              "        vertical-align: top;\n",
              "    }\n",
              "\n",
              "    .dataframe thead th {\n",
              "        text-align: right;\n",
              "    }\n",
              "</style>\n",
              "<table border=\"1\" class=\"dataframe\">\n",
              "  <thead>\n",
              "    <tr style=\"text-align: right;\">\n",
              "      <th></th>\n",
              "      <th>description</th>\n",
              "      <th>variety</th>\n",
              "    </tr>\n",
              "  </thead>\n",
              "  <tbody>\n",
              "    <tr>\n",
              "      <th>4</th>\n",
              "      <td>Much like the regular bottling from 2012, this...</td>\n",
              "      <td>Pinot Noir</td>\n",
              "    </tr>\n",
              "    <tr>\n",
              "      <th>10</th>\n",
              "      <td>Soft, supple plum envelopes an oaky structure ...</td>\n",
              "      <td>Cabernet Sauvignon</td>\n",
              "    </tr>\n",
              "    <tr>\n",
              "      <th>12</th>\n",
              "      <td>Slightly reduced, this wine offers a chalky, t...</td>\n",
              "      <td>Cabernet Sauvignon</td>\n",
              "    </tr>\n",
              "    <tr>\n",
              "      <th>14</th>\n",
              "      <td>Building on 150 years and six generations of w...</td>\n",
              "      <td>Chardonnay</td>\n",
              "    </tr>\n",
              "    <tr>\n",
              "      <th>20</th>\n",
              "      <td>Ripe aromas of dark berries mingle with ample ...</td>\n",
              "      <td>Red Blend</td>\n",
              "    </tr>\n",
              "    <tr>\n",
              "      <th>...</th>\n",
              "      <td>...</td>\n",
              "      <td>...</td>\n",
              "    </tr>\n",
              "    <tr>\n",
              "      <th>129956</th>\n",
              "      <td>The blend is 44% Merlot, 33% Cabernet Sauvigno...</td>\n",
              "      <td>Bordeaux-style Red Blend</td>\n",
              "    </tr>\n",
              "    <tr>\n",
              "      <th>129958</th>\n",
              "      <td>This blend of Cabernet Sauvignon-Merlot and Ca...</td>\n",
              "      <td>Bordeaux-style Red Blend</td>\n",
              "    </tr>\n",
              "    <tr>\n",
              "      <th>129960</th>\n",
              "      <td>Fresh and fruity, this is full of red cherry f...</td>\n",
              "      <td>Pinot Noir</td>\n",
              "    </tr>\n",
              "    <tr>\n",
              "      <th>129963</th>\n",
              "      <td>A bouquet of black cherry, tart cranberry and ...</td>\n",
              "      <td>Cabernet Sauvignon</td>\n",
              "    </tr>\n",
              "    <tr>\n",
              "      <th>129967</th>\n",
              "      <td>Citation is given as much as a decade of bottl...</td>\n",
              "      <td>Pinot Noir</td>\n",
              "    </tr>\n",
              "  </tbody>\n",
              "</table>\n",
              "<p>50358 rows × 2 columns</p>\n",
              "</div>"
            ],
            "text/plain": [
              "                                              description                   variety\n",
              "4       Much like the regular bottling from 2012, this...                Pinot Noir\n",
              "10      Soft, supple plum envelopes an oaky structure ...        Cabernet Sauvignon\n",
              "12      Slightly reduced, this wine offers a chalky, t...        Cabernet Sauvignon\n",
              "14      Building on 150 years and six generations of w...                Chardonnay\n",
              "20      Ripe aromas of dark berries mingle with ample ...                 Red Blend\n",
              "...                                                   ...                       ...\n",
              "129956  The blend is 44% Merlot, 33% Cabernet Sauvigno...  Bordeaux-style Red Blend\n",
              "129958  This blend of Cabernet Sauvignon-Merlot and Ca...  Bordeaux-style Red Blend\n",
              "129960  Fresh and fruity, this is full of red cherry f...                Pinot Noir\n",
              "129963  A bouquet of black cherry, tart cranberry and ...        Cabernet Sauvignon\n",
              "129967  Citation is given as much as a decade of bottl...                Pinot Noir\n",
              "\n",
              "[50358 rows x 2 columns]"
            ]
          },
          "metadata": {
            "tags": []
          },
          "execution_count": 64
        }
      ]
    },
    {
      "cell_type": "code",
      "metadata": {
        "id": "8XgmNcpsb0nS",
        "colab_type": "code",
        "colab": {}
      },
      "source": [
        "wine_df_short['variety_num'] = wine_df_short['variety'].astype('category').cat.codes"
      ],
      "execution_count": 65,
      "outputs": []
    },
    {
      "cell_type": "code",
      "metadata": {
        "id": "pFU2CyGbb0nW",
        "colab_type": "code",
        "colab": {
          "base_uri": "https://localhost:8080/",
          "height": 399
        },
        "outputId": "ef5e41fe-0830-4faa-f4d1-d3be812e4f21"
      },
      "source": [
        "wine_df_short"
      ],
      "execution_count": 66,
      "outputs": [
        {
          "output_type": "execute_result",
          "data": {
            "text/html": [
              "<div>\n",
              "<style scoped>\n",
              "    .dataframe tbody tr th:only-of-type {\n",
              "        vertical-align: middle;\n",
              "    }\n",
              "\n",
              "    .dataframe tbody tr th {\n",
              "        vertical-align: top;\n",
              "    }\n",
              "\n",
              "    .dataframe thead th {\n",
              "        text-align: right;\n",
              "    }\n",
              "</style>\n",
              "<table border=\"1\" class=\"dataframe\">\n",
              "  <thead>\n",
              "    <tr style=\"text-align: right;\">\n",
              "      <th></th>\n",
              "      <th>description</th>\n",
              "      <th>variety</th>\n",
              "      <th>variety_num</th>\n",
              "    </tr>\n",
              "  </thead>\n",
              "  <tbody>\n",
              "    <tr>\n",
              "      <th>4</th>\n",
              "      <td>Much like the regular bottling from 2012, this...</td>\n",
              "      <td>Pinot Noir</td>\n",
              "      <td>3</td>\n",
              "    </tr>\n",
              "    <tr>\n",
              "      <th>10</th>\n",
              "      <td>Soft, supple plum envelopes an oaky structure ...</td>\n",
              "      <td>Cabernet Sauvignon</td>\n",
              "      <td>1</td>\n",
              "    </tr>\n",
              "    <tr>\n",
              "      <th>12</th>\n",
              "      <td>Slightly reduced, this wine offers a chalky, t...</td>\n",
              "      <td>Cabernet Sauvignon</td>\n",
              "      <td>1</td>\n",
              "    </tr>\n",
              "    <tr>\n",
              "      <th>14</th>\n",
              "      <td>Building on 150 years and six generations of w...</td>\n",
              "      <td>Chardonnay</td>\n",
              "      <td>2</td>\n",
              "    </tr>\n",
              "    <tr>\n",
              "      <th>20</th>\n",
              "      <td>Ripe aromas of dark berries mingle with ample ...</td>\n",
              "      <td>Red Blend</td>\n",
              "      <td>4</td>\n",
              "    </tr>\n",
              "    <tr>\n",
              "      <th>...</th>\n",
              "      <td>...</td>\n",
              "      <td>...</td>\n",
              "      <td>...</td>\n",
              "    </tr>\n",
              "    <tr>\n",
              "      <th>129956</th>\n",
              "      <td>The blend is 44% Merlot, 33% Cabernet Sauvigno...</td>\n",
              "      <td>Bordeaux-style Red Blend</td>\n",
              "      <td>0</td>\n",
              "    </tr>\n",
              "    <tr>\n",
              "      <th>129958</th>\n",
              "      <td>This blend of Cabernet Sauvignon-Merlot and Ca...</td>\n",
              "      <td>Bordeaux-style Red Blend</td>\n",
              "      <td>0</td>\n",
              "    </tr>\n",
              "    <tr>\n",
              "      <th>129960</th>\n",
              "      <td>Fresh and fruity, this is full of red cherry f...</td>\n",
              "      <td>Pinot Noir</td>\n",
              "      <td>3</td>\n",
              "    </tr>\n",
              "    <tr>\n",
              "      <th>129963</th>\n",
              "      <td>A bouquet of black cherry, tart cranberry and ...</td>\n",
              "      <td>Cabernet Sauvignon</td>\n",
              "      <td>1</td>\n",
              "    </tr>\n",
              "    <tr>\n",
              "      <th>129967</th>\n",
              "      <td>Citation is given as much as a decade of bottl...</td>\n",
              "      <td>Pinot Noir</td>\n",
              "      <td>3</td>\n",
              "    </tr>\n",
              "  </tbody>\n",
              "</table>\n",
              "<p>50358 rows × 3 columns</p>\n",
              "</div>"
            ],
            "text/plain": [
              "                                              description  ... variety_num\n",
              "4       Much like the regular bottling from 2012, this...  ...           3\n",
              "10      Soft, supple plum envelopes an oaky structure ...  ...           1\n",
              "12      Slightly reduced, this wine offers a chalky, t...  ...           1\n",
              "14      Building on 150 years and six generations of w...  ...           2\n",
              "20      Ripe aromas of dark berries mingle with ample ...  ...           4\n",
              "...                                                   ...  ...         ...\n",
              "129956  The blend is 44% Merlot, 33% Cabernet Sauvigno...  ...           0\n",
              "129958  This blend of Cabernet Sauvignon-Merlot and Ca...  ...           0\n",
              "129960  Fresh and fruity, this is full of red cherry f...  ...           3\n",
              "129963  A bouquet of black cherry, tart cranberry and ...  ...           1\n",
              "129967  Citation is given as much as a decade of bottl...  ...           3\n",
              "\n",
              "[50358 rows x 3 columns]"
            ]
          },
          "metadata": {
            "tags": []
          },
          "execution_count": 66
        }
      ]
    },
    {
      "cell_type": "code",
      "metadata": {
        "id": "VOpWrNk_b0nZ",
        "colab_type": "code",
        "colab": {}
      },
      "source": [
        "# Split our data into training and test sets (80/20)\n",
        "train_df, test_df = train_test_split(wine_df_short, test_size=0.2)"
      ],
      "execution_count": 67,
      "outputs": []
    },
    {
      "cell_type": "code",
      "metadata": {
        "id": "w27v8yzTb0nf",
        "colab_type": "code",
        "colab": {
          "base_uri": "https://localhost:8080/",
          "height": 70
        },
        "outputId": "e241688b-ab72-4a27-f3b1-eaf8b837c276"
      },
      "source": [
        "import string\n",
        "import nltk\n",
        "from nltk.corpus import stopwords\n",
        "nltk.download('stopwords')\n",
        "stops = stopwords.words('english')\n",
        "for i in topVarieties:\n",
        "  stops.extend(i.lower().split(' '))\n",
        "print(stops[-15:])\n"
      ],
      "execution_count": 68,
      "outputs": [
        {
          "output_type": "stream",
          "text": [
            "[nltk_data] Downloading package stopwords to /root/nltk_data...\n",
            "[nltk_data]   Package stopwords is already up-to-date!\n",
            "[\"weren't\", 'won', \"won't\", 'wouldn', \"wouldn't\", 'pinot', 'noir', 'chardonnay', 'cabernet', 'sauvignon', 'red', 'blend', 'bordeaux-style', 'red', 'blend']\n"
          ],
          "name": "stdout"
        }
      ]
    },
    {
      "cell_type": "code",
      "metadata": {
        "id": "zvqoXK2fb0ni",
        "colab_type": "code",
        "colab": {}
      },
      "source": [
        "def cleanText(text):\n",
        "    # Remove new lines from the text\n",
        "    text = text.replace(\"\\n\", \" \")\n",
        "    text = text.lower()\n",
        "    text = text.split(' ')\n",
        "    text = [w for w in text if not w in stops] \n",
        "    text = ' '.join(text)\n",
        "    text = text.translate(str.maketrans('', '', string.punctuation))\n",
        "    text = ''.join([i for i in text if not i.isdigit()])\n",
        "    return text"
      ],
      "execution_count": 69,
      "outputs": []
    },
    {
      "cell_type": "code",
      "metadata": {
        "id": "K3RZou-Sb0nm",
        "colab_type": "code",
        "colab": {}
      },
      "source": [
        "train_df['description'] = train_df['description'].apply(lambda x : cleanText(x))\n",
        "test_df['description'] = test_df['description'].apply(lambda x : cleanText(x))"
      ],
      "execution_count": null,
      "outputs": []
    },
    {
      "cell_type": "code",
      "metadata": {
        "id": "TqW9hU61b0nq",
        "colab_type": "code",
        "colab": {
          "base_uri": "https://localhost:8080/",
          "height": 399
        },
        "outputId": "ec2aa3e4-3601-4546-9487-01d2a1951d9c"
      },
      "source": [
        "train_df"
      ],
      "execution_count": 71,
      "outputs": [
        {
          "output_type": "execute_result",
          "data": {
            "text/html": [
              "<div>\n",
              "<style scoped>\n",
              "    .dataframe tbody tr th:only-of-type {\n",
              "        vertical-align: middle;\n",
              "    }\n",
              "\n",
              "    .dataframe tbody tr th {\n",
              "        vertical-align: top;\n",
              "    }\n",
              "\n",
              "    .dataframe thead th {\n",
              "        text-align: right;\n",
              "    }\n",
              "</style>\n",
              "<table border=\"1\" class=\"dataframe\">\n",
              "  <thead>\n",
              "    <tr style=\"text-align: right;\">\n",
              "      <th></th>\n",
              "      <th>description</th>\n",
              "      <th>variety</th>\n",
              "      <th>variety_num</th>\n",
              "    </tr>\n",
              "  </thead>\n",
              "  <tbody>\n",
              "    <tr>\n",
              "      <th>18076</th>\n",
              "      <td>jumps immediately bright spicy scent forward f...</td>\n",
              "      <td>Pinot Noir</td>\n",
              "      <td>3</td>\n",
              "    </tr>\n",
              "    <tr>\n",
              "      <th>97344</th>\n",
              "      <td>released october  would benefited additional t...</td>\n",
              "      <td>Pinot Noir</td>\n",
              "      <td>3</td>\n",
              "    </tr>\n",
              "    <tr>\n",
              "      <th>94841</th>\n",
              "      <td>rounded mouthfilling wine beginning seems soft...</td>\n",
              "      <td>Pinot Noir</td>\n",
              "      <td>3</td>\n",
              "    </tr>\n",
              "    <tr>\n",
              "      <th>21224</th>\n",
              "      <td>darcie kent really nails cab john maddens ranc...</td>\n",
              "      <td>Cabernet Sauvignon</td>\n",
              "      <td>1</td>\n",
              "    </tr>\n",
              "    <tr>\n",
              "      <th>72916</th>\n",
              "      <td>raspberry dark slate gravel bit shiitake mushr...</td>\n",
              "      <td>Pinot Noir</td>\n",
              "      <td>3</td>\n",
              "    </tr>\n",
              "    <tr>\n",
              "      <th>...</th>\n",
              "      <td>...</td>\n",
              "      <td>...</td>\n",
              "      <td>...</td>\n",
              "    </tr>\n",
              "    <tr>\n",
              "      <th>38648</th>\n",
              "      <td>lush body ripe concentrated plum currant flavo...</td>\n",
              "      <td>Bordeaux-style Red Blend</td>\n",
              "      <td>0</td>\n",
              "    </tr>\n",
              "    <tr>\n",
              "      <th>21537</th>\n",
              "      <td>miss presence oak chardonnay brilliantly forwa...</td>\n",
              "      <td>Chardonnay</td>\n",
              "      <td>2</td>\n",
              "    </tr>\n",
              "    <tr>\n",
              "      <th>107953</th>\n",
              "      <td>wine little candied stewed cherry brown sugar ...</td>\n",
              "      <td>Pinot Noir</td>\n",
              "      <td>3</td>\n",
              "    </tr>\n",
              "    <tr>\n",
              "      <th>115981</th>\n",
              "      <td>raspberry ripeness soft tannins lend warmth st...</td>\n",
              "      <td>Pinot Noir</td>\n",
              "      <td>3</td>\n",
              "    </tr>\n",
              "    <tr>\n",
              "      <th>89105</th>\n",
              "      <td>singleclone singlevineyard estate wine release...</td>\n",
              "      <td>Cabernet Sauvignon</td>\n",
              "      <td>1</td>\n",
              "    </tr>\n",
              "  </tbody>\n",
              "</table>\n",
              "<p>40286 rows × 3 columns</p>\n",
              "</div>"
            ],
            "text/plain": [
              "                                              description  ... variety_num\n",
              "18076   jumps immediately bright spicy scent forward f...  ...           3\n",
              "97344   released october  would benefited additional t...  ...           3\n",
              "94841   rounded mouthfilling wine beginning seems soft...  ...           3\n",
              "21224   darcie kent really nails cab john maddens ranc...  ...           1\n",
              "72916   raspberry dark slate gravel bit shiitake mushr...  ...           3\n",
              "...                                                   ...  ...         ...\n",
              "38648   lush body ripe concentrated plum currant flavo...  ...           0\n",
              "21537   miss presence oak chardonnay brilliantly forwa...  ...           2\n",
              "107953  wine little candied stewed cherry brown sugar ...  ...           3\n",
              "115981  raspberry ripeness soft tannins lend warmth st...  ...           3\n",
              "89105   singleclone singlevineyard estate wine release...  ...           1\n",
              "\n",
              "[40286 rows x 3 columns]"
            ]
          },
          "metadata": {
            "tags": []
          },
          "execution_count": 71
        }
      ]
    },
    {
      "cell_type": "code",
      "metadata": {
        "id": "pB2PTVXWb0nu",
        "colab_type": "code",
        "colab": {}
      },
      "source": [
        "X_train = train_df['description']\n",
        "y_train = train_df['variety_num']\n",
        "X_test = test_df['description']\n",
        "y_test = test_df['variety_num']"
      ],
      "execution_count": 72,
      "outputs": []
    },
    {
      "cell_type": "code",
      "metadata": {
        "id": "EgYR8ZUrb0ny",
        "colab_type": "code",
        "colab": {}
      },
      "source": [
        "vocab_size = 20000\n",
        "max_seq_length = 400"
      ],
      "execution_count": 73,
      "outputs": []
    },
    {
      "cell_type": "code",
      "metadata": {
        "id": "tp_j2apmV4s2",
        "colab_type": "code",
        "colab": {}
      },
      "source": [
        "# TfidfVectorizer converts text to a matrix of TF-IDF features\n",
        "from sklearn.feature_extraction.text import TfidfVectorizer\n",
        "\n",
        "vect = TfidfVectorizer()"
      ],
      "execution_count": 74,
      "outputs": []
    },
    {
      "cell_type": "code",
      "metadata": {
        "id": "2v7BK1RKWVML",
        "colab_type": "code",
        "colab": {}
      },
      "source": [
        "''' \n",
        "TO DO: Define our X and y from the training set\n",
        "(Re)load the (cleaned) training and test datasets as X_train, y_train, X_test, y_test\n",
        "'''\n",
        "# TO DO: Load our pre-processed data into a dataframe\n",
        "#X_train, X_test, y_train, y_test = train_test_split(X, y, test_size=0.20)"
      ],
      "execution_count": null,
      "outputs": []
    },
    {
      "cell_type": "code",
      "metadata": {
        "id": "MdJ-QT9QQDiq",
        "colab_type": "code",
        "colab": {}
      },
      "source": [
        "X_train_vect = vect.fit_transform(X_train)\n",
        "X_test_vect = vect.transform(X_test)"
      ],
      "execution_count": 76,
      "outputs": []
    },
    {
      "cell_type": "code",
      "metadata": {
        "id": "o3RfFrgPWqVf",
        "colab_type": "code",
        "colab": {}
      },
      "source": [
        "# Import classifiers from Scikit-learn\n",
        "from sklearn.naive_bayes import MultinomialNB\n",
        "from sklearn.svm import LinearSVC\n",
        "from sklearn.ensemble import RandomForestClassifier"
      ],
      "execution_count": 77,
      "outputs": []
    },
    {
      "cell_type": "code",
      "metadata": {
        "id": "WhzkpKChAMOF",
        "colab_type": "code",
        "colab": {}
      },
      "source": [
        "'''\n",
        "TO DO: Define a list of models that we will be comparing. Choose from the ones\n",
        "that were imported from above.\n",
        "'''\n",
        "NB = MultinomialNB()\n",
        "SVC = LinearSVC()\n",
        "RFC = RandomForestClassifier(max_depth=10)\n",
        "models = [NB, SVC, RFC]"
      ],
      "execution_count": 78,
      "outputs": []
    },
    {
      "cell_type": "code",
      "metadata": {
        "id": "gy9mrUqUAS7o",
        "colab_type": "code",
        "colab": {}
      },
      "source": [
        "# Create a dictionary for storing the results of each run for each model\n",
        "results = {}\n",
        "\n",
        "# For each model, create a dictionary within results that stores the accuracy,\n",
        "# f1 score and confusion matrix values\n",
        "for model in models:\n",
        "    results[model.__class__.__name__] = {'accuracy': [], \n",
        "                                       'f1_score': [], \n",
        "                                       'confusion_matrix': []}"
      ],
      "execution_count": 79,
      "outputs": []
    },
    {
      "cell_type": "code",
      "metadata": {
        "id": "RSlfIBh9XEXE",
        "colab_type": "code",
        "colab": {}
      },
      "source": [
        "from sklearn.metrics import accuracy_score, f1_score, confusion_matrix"
      ],
      "execution_count": 80,
      "outputs": []
    },
    {
      "cell_type": "code",
      "metadata": {
        "id": "nRqm0-EzApSR",
        "colab_type": "code",
        "colab": {
          "base_uri": "https://localhost:8080/",
          "height": 70
        },
        "outputId": "1b1d7b3c-ba09-4c66-b093-7a2020ce7436"
      },
      "source": [
        "for model in models:\n",
        "    '''\n",
        "    TO DO: For each model in our models list, we want to:\n",
        "\n",
        "    1. Fit the model on X_train_vect and y_train\n",
        "\n",
        "    2. Generate y_pred by calling model.predict\n",
        "    '''\n",
        "    model.fit(X_train_vect, y_train)\n",
        "    y_pred = model.predict(X_test_vect)\n",
        "    '''\n",
        "    TO DO: Compute the following so we can add it to our results:\n",
        "    acc - accuracy score\n",
        "    f1  - f1 score\n",
        "    cm - confusion matrix\n",
        "    '''\n",
        "    acc = accuracy_score(y_test, y_pred)\n",
        "    f1 = f1_score(y_test, y_pred, average='weighted')\n",
        "    cm = confusion_matrix(y_test, y_pred)\n",
        "    print(\"done\")\n",
        "    results[model.__class__.__name__]['accuracy'] = acc\n",
        "    results[model.__class__.__name__]['f1_score'] = f1\n",
        "    results[model.__class__.__name__]['confusion_matrix'] = cm"
      ],
      "execution_count": 81,
      "outputs": [
        {
          "output_type": "stream",
          "text": [
            "done\n",
            "done\n",
            "done\n"
          ],
          "name": "stdout"
        }
      ]
    },
    {
      "cell_type": "code",
      "metadata": {
        "id": "PTI8o3dJUEfE",
        "colab_type": "code",
        "colab": {
          "base_uri": "https://localhost:8080/",
          "height": 284
        },
        "outputId": "ae5d62f3-b9a1-43f7-ca7e-fb9af158e5e8"
      },
      "source": [
        "'''\n",
        "TO DO: Display the results by printing out the accuracy, F1 score and confusion\n",
        "matrix for each of the models.\n",
        "'''\n",
        "for model in results:\n",
        "  print(results[model])"
      ],
      "execution_count": 82,
      "outputs": [
        {
          "output_type": "stream",
          "text": [
            "{'accuracy': 0.7973590150913423, 'f1_score': 0.7953736384895485, 'confusion_matrix': array([[ 831,  220,    6,  117,  148],\n",
            "       [  12, 1263,    7,  440,  160],\n",
            "       [  15,    4, 2286,   69,    1],\n",
            "       [ 181,   82,   42, 2366,   28],\n",
            "       [  44,  240,   13,  212, 1285]])}\n",
            "{'accuracy': 0.8565329626687848, 'f1_score': 0.8566095762345158, 'confusion_matrix': array([[1078,  110,    6,   76,   52],\n",
            "       [  70, 1494,    6,  183,  129],\n",
            "       [   7,    8, 2304,   51,    5],\n",
            "       [ 116,  150,   33, 2356,   44],\n",
            "       [  84,  194,   15,  106, 1395]])}\n",
            "{'accuracy': 0.6167593328038126, 'f1_score': 0.5764948901841165, 'confusion_matrix': array([[ 187,   44,   19,  942,  130],\n",
            "       [   4,  363,   17, 1429,   69],\n",
            "       [   0,    0, 2225,  150,    0],\n",
            "       [  16,    1,   63, 2619,    0],\n",
            "       [   4,   44,   25,  903,  818]])}\n"
          ],
          "name": "stdout"
        }
      ]
    }
  ]
}